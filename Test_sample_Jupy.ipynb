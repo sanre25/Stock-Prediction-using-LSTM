{
 "cells": [
  {
   "cell_type": "code",
   "execution_count": 16,
   "id": "a47fae41",
   "metadata": {},
   "outputs": [],
   "source": [
    "import joblib\n",
    "model = joblib.load('final_model.sav')"
   ]
  },
  {
   "cell_type": "code",
   "execution_count": 17,
   "id": "5fd7927d",
   "metadata": {},
   "outputs": [],
   "source": [
    "def predict_func(data):\n",
    "    \"\"\"\n",
    "    Modify this function to predict closing prices for next 2 samples.\n",
    "    Take care of null values in the sample_input.csv file which are listed as NAN in the dataframe passed to you \n",
    "    Args:\n",
    "        data (pandas Dataframe): contains the 50 continuous time series values for a stock index\n",
    "\n",
    "    Returns:\n",
    "        list (2 values): your prediction for closing price of next 2 samples\n",
    "    \"\"\"\n",
    "    \n",
    "    import numpy as np\n",
    "    import pandas as pd \n",
    "    import joblib\n",
    "    \n",
    "    model = joblib.load('final_model.sav')\n",
    "    \n",
    "    \n",
    "    data = data.interpolate() \n",
    "    FullData=data[['Close']].values\n",
    "    \n",
    "    from sklearn.preprocessing import StandardScaler, MinMaxScaler\n",
    "    sc=MinMaxScaler()\n",
    "    DataScaler = sc.fit(FullData)\n",
    "    \n",
    "    Last50Days = np.array(data['Close'])\n",
    "    # Normalizing the data just like we did for training the model\n",
    "    Last50Days=sc.transform(Last50Days.reshape(-1,1))\n",
    "\n",
    "    # Changing the shape of the data to 3D\n",
    "    # Choosing TimeSteps as 50 because we have used the same for training\n",
    "    NumSamples=1\n",
    "    TimeSteps=50\n",
    "    NumFeatures=1\n",
    "    Last50Days=Last50Days.reshape(NumSamples,TimeSteps,NumFeatures)\n",
    "\n",
    "    #############################\n",
    "\n",
    "    # Making predictions on data\n",
    "    predicted_Price = model.predict(Last50Days)\n",
    "    predicted_Price = sc.inverse_transform(predicted_Price)\n",
    "    \n",
    "    return np.array(predicted_Price[0][0:2])"
   ]
  },
  {
   "cell_type": "code",
   "execution_count": 18,
   "id": "86b7bf7e",
   "metadata": {},
   "outputs": [],
   "source": [
    "df = pd.read_csv('sample_input.csv')"
   ]
  },
  {
   "cell_type": "code",
   "execution_count": 19,
   "id": "34216ef8",
   "metadata": {},
   "outputs": [
    {
     "name": "stdout",
     "output_type": "stream",
     "text": [
      "1/1 [==============================] - 0s 246ms/step\n"
     ]
    },
    {
     "data": {
      "text/plain": [
       "array([7095.9956, 7089.461 ], dtype=float32)"
      ]
     },
     "execution_count": 19,
     "metadata": {},
     "output_type": "execute_result"
    }
   ],
   "source": [
    "predict_func(df)"
   ]
  },
  {
   "cell_type": "code",
   "execution_count": 14,
   "id": "9cbc360a",
   "metadata": {},
   "outputs": [],
   "source": [
    "import numpy as np\n",
    "import pandas as pd\n",
    "\n",
    "\n",
    "def evaluate():\n",
    "    # Input the csv file\n",
    "    \"\"\"\n",
    "    Sample evaluation function\n",
    "    Don't modify this function\n",
    "    \"\"\"\n",
    "    df = pd.read_csv('sample_input.csv')\n",
    "     \n",
    "    actual_close = np.loadtxt('sample_close.txt')\n",
    "    \n",
    "    pred_close = predict_func(df)\n",
    "    \n",
    "    # Calculation of squared_error\n",
    "    actual_close = np.array(actual_close)\n",
    "    pred_close = np.array(pred_close)\n",
    "    mean_square_error = np.mean(np.square(actual_close-pred_close))\n",
    "\n",
    "\n",
    "    pred_prev = [df['Close'].iloc[-1]]\n",
    "    pred_prev.append(pred_close[0])\n",
    "    pred_curr = pred_close\n",
    "    \n",
    "    actual_prev = [df['Close'].iloc[-1]]\n",
    "    actual_prev.append(actual_close[0])\n",
    "    actual_curr = actual_close\n",
    "\n",
    "    # Calculation of directional_accuracy\n",
    "    pred_dir = np.array(pred_curr)-np.array(pred_prev)\n",
    "    actual_dir = np.array(actual_curr)-np.array(actual_prev)\n",
    "    dir_accuracy = np.mean((pred_dir*actual_dir)>0)*100\n",
    "\n",
    "    print(f'Mean Square Error: {mean_square_error:.6f}\\nDirectional Accuracy: {dir_accuracy:.1f}')"
   ]
  },
  {
   "cell_type": "code",
   "execution_count": 20,
   "id": "f3032d91",
   "metadata": {},
   "outputs": [
    {
     "name": "stdout",
     "output_type": "stream",
     "text": [
      "1/1 [==============================] - 0s 236ms/step\n",
      "Mean Square Error: 27030.466776\n",
      "Directional Accuracy: 50.0\n"
     ]
    }
   ],
   "source": [
    "evaluate()"
   ]
  }
 ],
 "metadata": {
  "kernelspec": {
   "display_name": "Python 3 (ipykernel)",
   "language": "python",
   "name": "python3"
  },
  "language_info": {
   "codemirror_mode": {
    "name": "ipython",
    "version": 3
   },
   "file_extension": ".py",
   "mimetype": "text/x-python",
   "name": "python",
   "nbconvert_exporter": "python",
   "pygments_lexer": "ipython3",
   "version": "3.10.9"
  }
 },
 "nbformat": 4,
 "nbformat_minor": 5
}
