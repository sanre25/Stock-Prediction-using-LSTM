{
 "cells": [
  {
   "cell_type": "markdown",
   "id": "929c8dfd",
   "metadata": {},
   "source": [
    "# Information regarding files\n"
   ]
  },
  {
   "cell_type": "markdown",
   "id": "3b729228",
   "metadata": {},
   "source": [
    "-  **Model_param.sav** contain model parameters. i.e. Trained Model.\n",
    "\n",
    "\n",
    "-  **210922_Sandeep** contain python script in which predict_func is modified and used for evaluation as per the guideline.\n",
    "\n",
    "\n",
    "-  **sample_input** same as given in project.\n",
    "\n",
    "\n",
    "-  **sample_close** same as given in project.\n",
    "\n",
    "-  **Train_Model_Jupy** contain  Jupyter pyhton notebook file in which I trained the model.\n",
    "\n",
    "-  **Test_MOdel_Jupy** contain Jupyter python notebook file in which I perform testing."
   ]
  },
  {
   "cell_type": "markdown",
   "id": "88a0ef08",
   "metadata": {},
   "source": [
    "# Libaries Used"
   ]
  },
  {
   "cell_type": "code",
   "execution_count": 1,
   "id": "460bde8c",
   "metadata": {},
   "outputs": [],
   "source": [
    "import numpy as np\n",
    "import pandas as pd # for dataframe\n",
    "from sklearn.preprocessing import StandardScaler, MinMaxScaler\n",
    "from keras.models import Sequential\n",
    "from keras.layers import Dense\n",
    "from keras.layers import LSTM\n",
    "import matplotlib.pyplot as plt\n",
    "# save the model to disk\n",
    "import joblib"
   ]
  },
  {
   "cell_type": "markdown",
   "id": "3e6e60fe",
   "metadata": {},
   "source": [
    "# Guidelines\n"
   ]
  },
  {
   "cell_type": "markdown",
   "id": "5ea2cf47",
   "metadata": {},
   "source": [
    "-  For training model you have first load STOCK_INDEX.csv file in working directory. ( If you want to train)\n",
    "\n",
    "-  Model_param should be in working directory to check prediction for new test data.\n",
    "\n",
    "-  **Test_Model** Jupyter only contain testing part to check working of  predict_func() and evaluate() functions.\n"
   ]
  }
 ],
 "metadata": {
  "kernelspec": {
   "display_name": "Python 3 (ipykernel)",
   "language": "python",
   "name": "python3"
  },
  "language_info": {
   "codemirror_mode": {
    "name": "ipython",
    "version": 3
   },
   "file_extension": ".py",
   "mimetype": "text/x-python",
   "name": "python",
   "nbconvert_exporter": "python",
   "pygments_lexer": "ipython3",
   "version": "3.10.9"
  }
 },
 "nbformat": 4,
 "nbformat_minor": 5
}
